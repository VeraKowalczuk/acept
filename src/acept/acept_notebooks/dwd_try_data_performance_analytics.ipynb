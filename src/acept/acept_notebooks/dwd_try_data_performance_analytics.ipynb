{
 "cells": [
  {
   "cell_type": "markdown",
   "source": [
    "Comparing the performance of different methods for accessing DWD TRY weather data"
   ],
   "metadata": {
    "collapsed": false
   },
   "id": "b7d2ef5c873c1b7e"
  },
  {
   "cell_type": "code",
   "execution_count": null,
   "id": "d08f5cbcaf028238",
   "metadata": {
    "collapsed": true
   },
   "outputs": [],
   "source": [
    "import geopandas\n",
    "import xarray as xr\n",
    "import acept.dwd_try_data_handling as dh\n",
    "import os\n",
    "from acept.acept_constants import TRY_BAVARIAN_PATH"
   ]
  },
  {
   "cell_type": "code",
   "execution_count": null,
   "id": "a3877abf77d5661e",
   "metadata": {
    "collapsed": false
   },
   "outputs": [],
   "source": [
    "# comb = dh.read_dwd_netcdf_file(\"combined_try\", 2011, 1)\n",
    "\n",
    "comb = xr.open_dataset(os.path.join(TRY_BAVARIAN_PATH, \"TRY_201101.nc\"))"
   ]
  },
  {
   "cell_type": "code",
   "execution_count": null,
   "outputs": [],
   "source": [
    "comb"
   ],
   "metadata": {
    "collapsed": false
   },
   "id": "ecea9aa181dcc9c7"
  },
  {
   "cell_type": "code",
   "execution_count": null,
   "id": "adf0690b011c9957",
   "metadata": {
    "collapsed": false
   },
   "outputs": [],
   "source": [
    "t = dh.read_dwd_netcdf_file(\"temperature\", 2011, 1)\n",
    "t"
   ]
  },
  {
   "cell_type": "code",
   "execution_count": null,
   "id": "initial_id",
   "metadata": {
    "collapsed": false
   },
   "outputs": [],
   "source": [
    "\n",
    "sid = dh.read_dwd_netcdf_file(\"rad_direct\", 2011, 1)\n",
    "sid"
   ]
  },
  {
   "cell_type": "code",
   "execution_count": null,
   "id": "40fccb8b8eb1fdd5",
   "metadata": {
    "collapsed": false
   },
   "outputs": [],
   "source": [
    "sis = dh.read_dwd_netcdf_file(\"rad_global\", 2011, 1)\n",
    "sis"
   ]
  },
  {
   "cell_type": "code",
   "execution_count": null,
   "id": "d10edbf23b45f6be",
   "metadata": {
    "collapsed": false
   },
   "outputs": [],
   "source": [
    "sid[\"SIS\"]=sis[\"SIS\"]\n",
    "sid.info"
   ]
  },
  {
   "cell_type": "code",
   "execution_count": null,
   "id": "475eb16b5e04ac9a",
   "metadata": {
    "collapsed": false
   },
   "outputs": [],
   "source": [
    "sid"
   ]
  },
  {
   "cell_type": "code",
   "execution_count": null,
   "id": "6888915e758a26f2",
   "metadata": {
    "collapsed": false
   },
   "outputs": [],
   "source": [
    "from acept.dwd_try_data_handling import preprocess_dwd_try_dataset\n",
    "import geopandas\n",
    "from shapely.geometry import Point\n",
    "# centroids of buildings as geometry point\n",
    "d = {'col1': ['name1'], 'geometry': [Point(11.4639, 48.2920)]}\n",
    "selected_shape = geopandas.GeoDataFrame(d, crs=\"EPSG:4326\")\n",
    "selected_shape = selected_shape.to_crs(epsg=3034)\n",
    "sid = preprocess_dwd_try_dataset(sid, \"rad_direct\")\n",
    "sid.SIS.rio.write_crs(\"EPSG:3034\", inplace=True)"
   ]
  },
  {
   "cell_type": "markdown",
   "id": "9f48253e0bfa5942",
   "metadata": {
    "collapsed": false
   },
   "source": [
    "Relatively expensive"
   ]
  },
  {
   "cell_type": "code",
   "execution_count": null,
   "id": "736503d19fe2c8ea",
   "metadata": {
    "collapsed": false
   },
   "outputs": [],
   "source": [
    "a = sid.rio.clip(selected_shape.geometry.values, selected_shape.crs, all_touched=True)\n",
    "# Select data for the nearest latitude and longitude\n",
    "a"
   ]
  },
  {
   "cell_type": "markdown",
   "id": "d2caed2a5e6f9ce3",
   "metadata": {
    "collapsed": false
   },
   "source": [
    "If selected_shape or the buildings are already in the correct CRS, this is easiest:"
   ]
  },
  {
   "cell_type": "code",
   "execution_count": null,
   "id": "f015cd44985080b8",
   "metadata": {
    "collapsed": false
   },
   "outputs": [],
   "source": [
    "a = sid.sel(X=selected_shape.loc[0, \"geometry\"].x, Y=selected_shape.loc[0, \"geometry\"].y, method=\"nearest\")\n",
    "a"
   ]
  },
  {
   "cell_type": "markdown",
   "id": "fac3ad82c999dc76",
   "metadata": {
    "collapsed": false
   },
   "source": [
    "Faster"
   ]
  },
  {
   "cell_type": "code",
   "execution_count": null,
   "id": "1bef64abd472f50b",
   "metadata": {
    "collapsed": false
   },
   "outputs": [],
   "source": [
    "import cartopy.crs as ccrs\n",
    "\n",
    "ds_crs = ccrs.epsg(3034)\n",
    "\n",
    "# Transform the point - src_crs is always Plate Carree for lat/lon grid\n",
    "x, y = ds_crs.transform_point(11.4639, 48.2920, src_crs=ccrs.Geodetic())\n",
    "print(x, y)\n",
    "# Now you can select data\n",
    "sid.sel(X=x, Y=y, method=\"nearest\")"
   ]
  },
  {
   "cell_type": "code",
   "execution_count": null,
   "id": "6094546c05c0e8cc",
   "metadata": {
    "collapsed": false
   },
   "outputs": [],
   "source": [
    "a = sid.sel(X=4104500, Y=2402500, method='nearest')\n",
    "a"
   ]
  },
  {
   "cell_type": "code",
   "execution_count": null,
   "id": "3a9c441f66d2cfab",
   "metadata": {
    "collapsed": false
   },
   "outputs": [],
   "source": [
    "diffuse = a.SIS - a.rad_direct\n",
    "diffuse"
   ]
  },
  {
   "cell_type": "code",
   "execution_count": null,
   "id": "9854683f38a61a9",
   "metadata": {
    "collapsed": false
   },
   "outputs": [],
   "source": [
    "diffuse_fraction = (diffuse / a.SIS).fillna(0)\n",
    "diffuse_fraction"
   ]
  },
  {
   "cell_type": "code",
   "execution_count": null,
   "id": "5a2a0faafc9b3b0d",
   "metadata": {
    "collapsed": false
   },
   "outputs": [],
   "source": [
    "a.to_pandas().loc[:,[\"rad_direct\", \"SIS\"]]"
   ]
  },
  {
   "cell_type": "markdown",
   "id": "172ee2248e49abc7",
   "metadata": {
    "collapsed": false
   },
   "source": [
    "Bavaria shape"
   ]
  },
  {
   "cell_type": "code",
   "execution_count": null,
   "id": "4818ec5ace1916fe",
   "metadata": {
    "collapsed": false
   },
   "outputs": [],
   "source": [
    "from acept.acept_constants import FED_STATES_PATH\n",
    "import geopandas as gpd\n",
    "bavaria_shape = gpd.read_file(FED_STATES_PATH)\n",
    "bavaria_shape = [bavaria_shape[\"GEN\"] == \"Bayern\"]"
   ]
  }
 ],
 "metadata": {
  "kernelspec": {
   "display_name": "Python 3",
   "language": "python",
   "name": "python3"
  },
  "language_info": {
   "codemirror_mode": {
    "name": "ipython",
    "version": 2
   },
   "file_extension": ".py",
   "mimetype": "text/x-python",
   "name": "python",
   "nbconvert_exporter": "python",
   "pygments_lexer": "ipython2",
   "version": "2.7.6"
  }
 },
 "nbformat": 4,
 "nbformat_minor": 5
}
