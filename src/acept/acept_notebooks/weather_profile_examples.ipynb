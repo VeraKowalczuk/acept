{
 "cells": [
  {
   "cell_type": "markdown",
   "source": [
    "Create hourly weather timeseries for the center of a PLZ area "
   ],
   "metadata": {
    "collapsed": false
   },
   "id": "ee8989f2a6c67a42"
  },
  {
   "cell_type": "code",
   "execution_count": null,
   "id": "initial_id",
   "metadata": {
    "collapsed": true
   },
   "outputs": [],
   "source": [
    "from acept.weather_profile_api import build_weather_profile_for_tmy_to_csv, build_temperature_profile_for_tmy\n",
    "from acept.plz_shape import calculate_centroid_of_plz"
   ]
  },
  {
   "cell_type": "code",
   "execution_count": null,
   "outputs": [],
   "source": [
    "plz = 85221\n",
    "center = calculate_centroid_of_plz(str(plz))\n",
    "print(center)"
   ],
   "metadata": {
    "collapsed": false
   },
   "id": "63f6e49dcf648a01"
  },
  {
   "cell_type": "code",
   "execution_count": null,
   "outputs": [],
   "source": [
    "csv_path, weather_profile_df = build_weather_profile_for_tmy_to_csv(lon=center.x, lat=center.y, area_id=str(plz))\n",
    "print(f\"Path to the Weather profile for PLZ {plz}:\", csv_path)"
   ],
   "metadata": {
    "collapsed": false
   },
   "id": "595b2735cfa917a8"
  },
  {
   "cell_type": "code",
   "execution_count": null,
   "outputs": [],
   "source": [
    "weather_profile_df"
   ],
   "metadata": {
    "collapsed": false
   },
   "id": "e727691ff2f204ad"
  },
  {
   "cell_type": "markdown",
   "source": [
    "Calculate temperature profile for TMY"
   ],
   "metadata": {
    "collapsed": false
   },
   "id": "b554d6b45d575340"
  },
  {
   "cell_type": "code",
   "execution_count": null,
   "outputs": [],
   "source": [
    "build_temperature_profile_for_tmy(lon=center.x, lat=center.y)"
   ],
   "metadata": {
    "collapsed": false
   },
   "id": "a4f669dacc04cf9c"
  }
 ],
 "metadata": {
  "kernelspec": {
   "display_name": "Python 3",
   "language": "python",
   "name": "python3"
  },
  "language_info": {
   "codemirror_mode": {
    "name": "ipython",
    "version": 2
   },
   "file_extension": ".py",
   "mimetype": "text/x-python",
   "name": "python",
   "nbconvert_exporter": "python",
   "pygments_lexer": "ipython2",
   "version": "2.7.6"
  }
 },
 "nbformat": 4,
 "nbformat_minor": 5
}
