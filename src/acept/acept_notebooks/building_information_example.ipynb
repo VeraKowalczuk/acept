{
 "cells": [
  {
   "cell_type": "markdown",
   "source": [
    "## Example of filling in missing building data\n",
    "Reading shape files and adding missing building information"
   ],
   "metadata": {
    "collapsed": false
   },
   "id": "217fbad3e0383d3e"
  },
  {
   "cell_type": "code",
   "execution_count": null,
   "id": "initial_id",
   "metadata": {
    "collapsed": true
   },
   "outputs": [],
   "source": [
    "import os\n",
    "\n",
    "from acept.buildings_information import *\n",
    "from acept.bbd_plz_preprocessing import read_building_data_from_shp\n",
    "from acept.acept_constants import BBD_WITH_PLZ_ROOT_PATH"
   ]
  },
  {
   "cell_type": "markdown",
   "source": [
    "Example file of 10 buildings from Schwabach"
   ],
   "metadata": {
    "collapsed": false
   },
   "id": "2fc2517839fe2645"
  },
  {
   "cell_type": "code",
   "execution_count": null,
   "outputs": [],
   "source": [
    "test_directory = os.path.join(BBD_WITH_PLZ_ROOT_PATH, \"TestBezirk\")\n",
    "test_buildings = \"Res_9565000_10_buildings.shp\""
   ],
   "metadata": {
    "collapsed": false
   },
   "id": "9edf8f7329c67338"
  },
  {
   "cell_type": "markdown",
   "source": [
    "The original file"
   ],
   "metadata": {
    "collapsed": false
   },
   "id": "ef14913fb7933e5d"
  },
  {
   "cell_type": "code",
   "execution_count": null,
   "outputs": [],
   "source": [
    "buildings_df = gpd.read_file(os.path.join(test_directory, test_buildings))\n",
    "buildings_df"
   ],
   "metadata": {
    "collapsed": false
   },
   "id": "8fbac0bb69dfba8e"
  },
  {
   "cell_type": "markdown",
   "source": [
    "Computing missing fields"
   ],
   "metadata": {
    "collapsed": false
   },
   "id": "45f7a42923a005b0"
  },
  {
   "cell_type": "code",
   "execution_count": null,
   "outputs": [],
   "source": [
    "updated_buildings, modified = calculate_missing_uhp_building_fields(buildings_df)\n",
    "if modified:\n",
    "  print(\"The information on the buildings was changed\")\n",
    "updated_buildings"
   ],
   "metadata": {
    "collapsed": false
   },
   "id": "80e4c5d930690110"
  },
  {
   "cell_type": "markdown",
   "source": [
    "Filling in missing information and saving the modified GeoDataFrame"
   ],
   "metadata": {
    "collapsed": false
   },
   "id": "45e855a7ba5cc2f7"
  },
  {
   "cell_type": "code",
   "execution_count": null,
   "outputs": [],
   "source": [
    "modified_buildings_path, modified_buildings_df = read_building_data_from_shp(test_directory, test_buildings, debug=True)"
   ],
   "metadata": {
    "collapsed": false
   },
   "id": "2762bedf4c36d1bd"
  },
  {
   "cell_type": "markdown",
   "source": [
    "The modified file with fields filled in"
   ],
   "metadata": {
    "collapsed": false
   },
   "id": "7aa5bb46a7c2cadc"
  },
  {
   "cell_type": "code",
   "execution_count": null,
   "outputs": [],
   "source": [
    "modified_buildings_df"
   ],
   "metadata": {
    "collapsed": false
   },
   "id": "de995afb406cb76"
  },
  {
   "cell_type": "markdown",
   "source": [
    "Calculating the shape around buildings"
   ],
   "metadata": {
    "collapsed": false
   },
   "id": "b80a5bffa6eb3cc6"
  },
  {
   "cell_type": "code",
   "execution_count": null,
   "outputs": [],
   "source": [
    "surrounding_shape = calculate_shape_around_buildings(buildings_df)\n",
    "surrounding_shape"
   ],
   "metadata": {
    "collapsed": false
   },
   "id": "aba03ff60c189f87"
  },
  {
   "cell_type": "code",
   "execution_count": null,
   "outputs": [],
   "source": [
    "surrounding_shape.plot()\n",
    "buildings_df.plot()"
   ],
   "metadata": {
    "collapsed": false
   },
   "id": "31ee945b7f601a14"
  }
 ],
 "metadata": {
  "kernelspec": {
   "display_name": "Python 3",
   "language": "python",
   "name": "python3"
  },
  "language_info": {
   "codemirror_mode": {
    "name": "ipython",
    "version": 2
   },
   "file_extension": ".py",
   "mimetype": "text/x-python",
   "name": "python",
   "nbconvert_exporter": "python",
   "pygments_lexer": "ipython2",
   "version": "2.7.6"
  }
 },
 "nbformat": 4,
 "nbformat_minor": 5
}
