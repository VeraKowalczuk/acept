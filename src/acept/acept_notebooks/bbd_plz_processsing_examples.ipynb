{
 "cells": [
  {
   "cell_type": "markdown",
   "id": "75ed7bf985b4f034",
   "metadata": {
    "collapsed": false
   },
   "source": [
    "    "
   ]
  },
  {
   "cell_type": "markdown",
   "id": "d7e10c8c9cd47c7f",
   "metadata": {
    "collapsed": false
   },
   "source": [
    "# Example uses of BBD Preprocessing"
   ]
  },
  {
   "cell_type": "code",
   "execution_count": null,
   "id": "c71be939e14498a9",
   "metadata": {
    "collapsed": false
   },
   "outputs": [],
   "source": [
    "from acept.acept_constants import BBD_WITH_PLZ_ROOT_PATH, PLZ_MAPPING_JSON_DIR\n",
    "import geopandas as gpd\n",
    "from acept.bbd_plz_preprocessing import *\n",
    "from acept.acept_utils import absolute_path_from_relative_posix"
   ]
  },
  {
   "cell_type": "code",
   "execution_count": null,
   "id": "34964cf3472c1521",
   "metadata": {
    "collapsed": false
   },
   "outputs": [],
   "source": [
    "build_plz_munc_id_db()"
   ]
  },
  {
   "cell_type": "markdown",
   "source": [
    "Note: The following can only be run once the PLZ to municipal ID mapping is build "
   ],
   "metadata": {
    "collapsed": false
   },
   "id": "87d0ec2a6eac33c7"
  },
  {
   "cell_type": "markdown",
   "id": "e27e9f0862cb94ee",
   "metadata": {
    "collapsed": false
   },
   "source": [
    "## example query for preprocessed BBD"
   ]
  },
  {
   "cell_type": "code",
   "execution_count": null,
   "id": "4bfaeafcb5f0a09",
   "metadata": {
    "collapsed": false
   },
   "outputs": [],
   "source": [
    "query_plz = \"91058\"\n",
    "use = \"All\"\n",
    "\n",
    "compute_buildings_for_plz_shp(query_plz, use)"
   ]
  },
  {
   "cell_type": "code",
   "execution_count": null,
   "id": "7ca32b9238dbb6b4",
   "metadata": {
    "collapsed": false
   },
   "outputs": [],
   "source": [
    "df = gpd.read_file(absolute_path_from_relative_posix(\"../../temp/91058_All/91058_All.shp\"))\n",
    "df"
   ]
  },
  {
   "cell_type": "code",
   "execution_count": null,
   "id": "7a0ff1aba38e96f0",
   "metadata": {
    "collapsed": false
   },
   "outputs": [],
   "source": [
    "df.columns"
   ]
  },
  {
   "cell_type": "code",
   "execution_count": null,
   "id": "6bfcc7307681a0bd",
   "metadata": {
    "collapsed": false
   },
   "outputs": [],
   "source": [
    "for col in ['Use', 'Building_T', 'Floors', 'Constructi', 'Refurb_wal', 'Refurb_roo', 'Refurb_bas', 'Refurb_win']:\n",
    "    print(col + \":\", df[col].unique())"
   ]
  },
  {
   "cell_type": "markdown",
   "id": "e25bc1ad3fc5412",
   "metadata": {
    "collapsed": false
   },
   "source": [
    "## Single example file\n",
    "### Run read_building_data_from_shp"
   ]
  },
  {
   "cell_type": "code",
   "execution_count": null,
   "id": "f08f7dd4a731e867",
   "metadata": {
    "collapsed": false
   },
   "outputs": [],
   "source": [
    "# diff buildings oth_9562000--> 1352\n",
    "from acept.acept_constants import BBD_ROOT_DIR_TEST\n",
    "\n",
    "\n",
    "print(gpd.read_file(BBD_ROOT_DIR_TEST + \"Res_9564000/Res_9564000.shp\").shape)\n",
    "# only intersects oth_9562000--> 1365 items\n",
    "print(gpd.read_file(BBD_WITH_PLZ_ROOT_PATH + \"TestBezirk/Res_9564000/Res_9564000_mod.shp\").shape)"
   ]
  },
  {
   "cell_type": "code",
   "execution_count": null,
   "id": "26da2171a0d7432c",
   "metadata": {
    "collapsed": false
   },
   "outputs": [],
   "source": [
    "my_dir = BBD_ROOT_DIR_TEST + \"Res_9564000\"\n",
    "my_filename_buildings = \"Res_9564000.shp\"\n",
    "_, b_df = read_building_data_from_shp(my_dir, my_filename_buildings, debug=True)\n",
    "b_df"
   ]
  },
  {
   "cell_type": "code",
   "execution_count": null,
   "id": "d3efccd8276c1533",
   "metadata": {
    "collapsed": false
   },
   "outputs": [],
   "source": [
    "plz_unique_list = b_df['plz'].unique()\n",
    "plz_unique_list.tolist()"
   ]
  },
  {
   "cell_type": "code",
   "execution_count": null,
   "id": "initial_id",
   "metadata": {
    "collapsed": false
   },
   "outputs": [],
   "source": [
    "b_df.groupby(\"bid\").count()\n",
    "b_df.shape"
   ]
  },
  {
   "cell_type": "code",
   "execution_count": null,
   "id": "ffd4c3d9ca3fd8b1",
   "metadata": {
    "collapsed": false
   },
   "outputs": [],
   "source": [
    "query_bbd_for_plz(str(90762))"
   ]
  }
 ],
 "metadata": {
  "kernelspec": {
   "display_name": "Python 3",
   "language": "python",
   "name": "python3"
  },
  "language_info": {
   "codemirror_mode": {
    "name": "ipython",
    "version": 2
   },
   "file_extension": ".py",
   "mimetype": "text/x-python",
   "name": "python",
   "nbconvert_exporter": "python",
   "pygments_lexer": "ipython2",
   "version": "2.7.6"
  }
 },
 "nbformat": 4,
 "nbformat_minor": 5
}
