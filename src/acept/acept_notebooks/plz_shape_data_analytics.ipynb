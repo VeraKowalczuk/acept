{
 "cells": [
  {
   "cell_type": "markdown",
   "source": [
    "## Check if PLZ areas intersect"
   ],
   "metadata": {
    "collapsed": false
   },
   "id": "249f0d18ce0c9acc"
  },
  {
   "cell_type": "code",
   "execution_count": null,
   "outputs": [],
   "source": [
    "\n",
    "import pandas as pd\n",
    "\n",
    "from acept import plz_shape"
   ],
   "metadata": {
    "collapsed": false
   },
   "id": "e5286a15d85c3d91"
  },
  {
   "cell_type": "code",
   "execution_count": null,
   "outputs": [],
   "source": [
    "# ---------\n",
    "# read shapefile\n",
    "plz_df = plz_shape.read_plz_shapefile()\n",
    "\n",
    "# ---------\n",
    "plz_df"
   ],
   "metadata": {
    "collapsed": false
   },
   "id": "fe58858c776c940d"
  },
  {
   "cell_type": "code",
   "execution_count": null,
   "outputs": [],
   "source": [
    "# ---------\n",
    "intersections_plz_df = plz_df.sjoin(plz_df, predicate='intersects')\n",
    "boundaries_touch_plz_df = plz_df.sjoin(plz_df, predicate='touches')\n",
    "# disjoint_plz_df = plz_df.sjoin(plz_df, predicate='disjoint') # this does not exist\n",
    "\n",
    "# plz_x_plz = plz_df.merge(plz_df, how='cross')"
   ],
   "metadata": {
    "collapsed": false
   },
   "id": "87d94dc2eefd0582"
  },
  {
   "cell_type": "code",
   "execution_count": null,
   "outputs": [],
   "source": [
    "intersections_plz_df[[\"plz_left\", \"plz_right\"]]"
   ],
   "metadata": {
    "collapsed": false
   },
   "id": "66782e3b46c1e67c"
  },
  {
   "cell_type": "code",
   "execution_count": null,
   "outputs": [],
   "source": [
    "# ---------\n",
    "boundaries_touch_plz_df[[\"plz_left\", \"plz_right\"]].drop_duplicates([\"plz_left\", \"plz_right\"], keep=False)"
   ],
   "metadata": {
    "collapsed": false
   },
   "id": "1571329bb580f7e8"
  },
  {
   "cell_type": "code",
   "execution_count": null,
   "outputs": [],
   "source": [
    "# ---------\n",
    "res = pd.concat([intersections_plz_df, pd.concat([boundaries_touch_plz_df] * 2)]).drop_duplicates(\n",
    "    [\"plz_left\", \"plz_right\"], keep=False)\n",
    "res = res[[\"plz_left\", \"plz_right\"]]\n",
    "# this is empty --> the plz areas share the points on their boundaries, but the interiors do not interlap\n",
    "res.loc[res.plz_left != res.plz_right]\n",
    "\n",
    "# ---------\n",
    "# "
   ],
   "metadata": {
    "collapsed": false
   },
   "id": "2426a6e8b7d5141e"
  },
  {
   "cell_type": "markdown",
   "source": [
    "### Note: the plz areas share the points on their boundaries, but their interiors do not interlap!"
   ],
   "metadata": {
    "collapsed": false
   },
   "id": "d319482727ba6048"
  }
 ],
 "metadata": {
  "kernelspec": {
   "display_name": "Python 3",
   "language": "python",
   "name": "python3"
  },
  "language_info": {
   "codemirror_mode": {
    "name": "ipython",
    "version": 2
   },
   "file_extension": ".py",
   "mimetype": "text/x-python",
   "name": "python",
   "nbconvert_exporter": "python",
   "pygments_lexer": "ipython2",
   "version": "2.7.6"
  }
 },
 "nbformat": 4,
 "nbformat_minor": 5
}
