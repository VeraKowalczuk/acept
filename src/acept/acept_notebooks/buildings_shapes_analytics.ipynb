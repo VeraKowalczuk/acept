{
 "cells": [
  {
   "cell_type": "markdown",
   "source": [
    "Experiments with building shapes"
   ],
   "metadata": {
    "collapsed": false
   },
   "id": "c7a1da68c67c718c"
  },
  {
   "cell_type": "markdown",
   "source": [
    "# Shape manipulations"
   ],
   "metadata": {
    "collapsed": false
   },
   "id": "b3f03145a88ddfca"
  },
  {
   "cell_type": "code",
   "execution_count": null,
   "outputs": [],
   "source": [
    "from acept.acept_utils import absolute_path_from_relative_posix\n",
    "from shapely import MultiPolygon, unary_union, convex_hull\n",
    "import geopandas as gpd\n",
    "\n",
    "buildings_df = gpd.read_file(absolute_path_from_relative_posix(\"../../temp/91058_All/91058_All.shp\")).head(10)"
   ],
   "metadata": {
    "collapsed": false
   },
   "id": "8f2a53b563b6f60e"
  },
  {
   "cell_type": "code",
   "execution_count": null,
   "outputs": [],
   "source": [
    "\n",
    "building_shapes = buildings_df.geometry.to_list()\n",
    "selected_area = MultiPolygon(building_shapes)\n",
    "selected_area = convex_hull(unary_union(selected_area))\n"
   ],
   "metadata": {
    "collapsed": false
   },
   "id": "d7cecc4f3d6b31bf"
  },
  {
   "cell_type": "code",
   "execution_count": null,
   "outputs": [],
   "source": [
    "buildings_df.geometry.plot()\n",
    "gpd.GeoDataFrame(geometry=[selected_area], crs=\"EPSG:4326\").plot()\n"
   ],
   "metadata": {
    "collapsed": false
   },
   "id": "6f84bbffb73d9d6"
  }
 ],
 "metadata": {
  "kernelspec": {
   "display_name": "Python 3",
   "language": "python",
   "name": "python3"
  },
  "language_info": {
   "codemirror_mode": {
    "name": "ipython",
    "version": 2
   },
   "file_extension": ".py",
   "mimetype": "text/x-python",
   "name": "python",
   "nbconvert_exporter": "python",
   "pygments_lexer": "ipython2",
   "version": "2.7.6"
  }
 },
 "nbformat": 4,
 "nbformat_minor": 5
}
