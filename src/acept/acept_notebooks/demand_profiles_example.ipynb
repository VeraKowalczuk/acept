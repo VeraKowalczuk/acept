{
 "cells": [
  {
   "cell_type": "code",
   "execution_count": null,
   "id": "9daf1931196e164f",
   "metadata": {
    "collapsed": true
   },
   "outputs": [],
   "source": [
    "import sys\n",
    "\n",
    "import geopandas as gpd\n",
    "\n",
    "from acept import plz_shape\n",
    "from acept.acept_utils import absolute_path_from_relative_posix\n",
    "from acept.demand_profiles import run_uhp_for_selected_buildings_year\n",
    "from acept.temperature_profiles import build_temperature_profile_for_year\n"
   ]
  },
  {
   "cell_type": "code",
   "execution_count": null,
   "outputs": [],
   "source": [
    "\n",
    "def build_scenario_profile(plz: int) -> dict:\n",
    "    \"\"\"\n",
    "    Build the scenario profile for the TMY\n",
    "\n",
    "    The scenario profiles are built for the temperature profile\n",
    "    The scenario profiles are saved in the:py:const:`acept.acept_constants.TEMP_PATH` directory\n",
    "\n",
    "    :param plz: PLZ to search\n",
    "    :return: The paths to the created scenario profiles in a dictionary\n",
    "    \"\"\"\n",
    "    print(\"Building the scenario profiles for the given input\")\n",
    "    selected_shape = plz_shape.get_single_plz_shape(str(plz))\n",
    "    print(\"Selected PLZ shape read.\")\n",
    "    temp_profile = build_temperature_profile_for_year(plz, selected_shape=selected_shape, year=None, debug=True)\n",
    "\n",
    "    return {\"temperature_profile\": temp_profile}"
   ],
   "metadata": {
    "collapsed": false
   },
   "id": "6a53a36ff524e6ce"
  },
  {
   "cell_type": "code",
   "execution_count": null,
   "outputs": [],
   "source": [
    "area_id = 91126  # Schwabach\n",
    "\n",
    "buildings_example = gpd.read_file(\n",
    "    absolute_path_from_relative_posix(\"../../data/bbd/TestBezirk/Res_9565000_10_buildings.shp\"))\n",
    "buildings_example"
   ],
   "metadata": {
    "collapsed": false
   },
   "id": "391857eb9c2a0518"
  },
  {
   "cell_type": "code",
   "execution_count": null,
   "outputs": [],
   "source": [
    "scenarios = build_scenario_profile(area_id)\n",
    "scenarios"
   ],
   "metadata": {
    "collapsed": false
   },
   "id": "acacafd4f6032517"
  },
  {
   "cell_type": "code",
   "execution_count": null,
   "outputs": [],
   "source": [
    "uhp_results = run_uhp_for_selected_buildings_year(area_id, buildings_example, None, scenarios[\"temperature_profile\"],\n",
    "                                    demand_unit='W')"
   ],
   "metadata": {
    "collapsed": false
   },
   "id": "858538eba5c9d465"
  },
  {
   "cell_type": "code",
   "execution_count": null,
   "outputs": [],
   "source": [
    "uhp_results"
   ],
   "metadata": {
    "collapsed": false
   },
   "id": "790178a04d043c0a"
  },
  {
   "cell_type": "code",
   "execution_count": null,
   "outputs": [],
   "source": [
    "print(uhp_results[\"csv_space_heating\"])\n",
    "uhp_results[\"space_heating_df\"]"
   ],
   "metadata": {
    "collapsed": false
   },
   "id": "c4957a834cb37ea0"
  },
  {
   "cell_type": "code",
   "execution_count": null,
   "outputs": [],
   "source": [
    "print(uhp_results[\"csv_water_heating\"])\n",
    "uhp_results[\"water_heating_df\"]"
   ],
   "metadata": {
    "collapsed": false
   },
   "id": "1b211a4d8c9e6f40"
  },
  {
   "cell_type": "code",
   "execution_count": null,
   "outputs": [],
   "source": [
    "print(uhp_results[\"buildings_csv\"])\n",
    "uhp_results[\"updated_buildings_df\"]\n"
   ],
   "metadata": {
    "collapsed": false
   },
   "id": "6a87ab7600998fef"
  }
 ],
 "metadata": {
  "kernelspec": {
   "display_name": "Python 3",
   "language": "python",
   "name": "python3"
  },
  "language_info": {
   "codemirror_mode": {
    "name": "ipython",
    "version": 2
   },
   "file_extension": ".py",
   "mimetype": "text/x-python",
   "name": "python",
   "nbconvert_exporter": "python",
   "pygments_lexer": "ipython2",
   "version": "2.7.6"
  }
 },
 "nbformat": 4,
 "nbformat_minor": 5
}
